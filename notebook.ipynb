{
  "cells": [
    {
      "cell_type": "markdown",
      "metadata": {
        "id": "view-in-github",
        "colab_type": "text"
      },
      "source": [
        "<a href=\"https://colab.research.google.com/github/Xavier-ML/Data-Driven-Product-Management-Conducting-a-Market-Analysis-/blob/main/notebook.ipynb\" target=\"_parent\"><img src=\"https://colab.research.google.com/assets/colab-badge.svg\" alt=\"Open In Colab\"/></a>"
      ]
    },
    {
      "source": [
        "![gym](gym.png)\n"
      ],
      "metadata": {
        "id": "5ed0ca94-e3ab-4fab-a5a3-5eb0307b6c26"
      },
      "id": "5ed0ca94-e3ab-4fab-a5a3-5eb0307b6c26",
      "cell_type": "markdown"
    },
    {
      "source": [
        "You are a product manager for a fitness studio and are interested in understanding the current demand for digital fitness classes. You plan to conduct a market analysis in Python to gauge demand and identify potential areas for growth of digital products and services.\n",
        "\n",
        "### The Data\n",
        "\n",
        "You are provided with a number of CSV files in the \"Files/data\" folder, which offer international and national-level data on Google Trends keyword searches related to fitness and related products.\n",
        "\n",
        "### workout.csv\n",
        "\n",
        "| Column     | Description              |\n",
        "|------------|--------------------------|\n",
        "| `'month'` | Month when the data was measured. |\n",
        "| `'workout_worldwide'` | Index representing the popularity of the keyword 'workout', on a scale of 0 to 100. |\n",
        "\n",
        "### three_keywords.csv\n",
        "\n",
        "| Column     | Description              |\n",
        "|------------|--------------------------|\n",
        "| `'month'` | Month when the data was measured. |\n",
        "| `'home_workout_worldwide'` | Index representing the popularity of the keyword 'home workout', on a scale of 0 to 100. |\n",
        "| `'gym_workout_worldwide'` | Index representing the popularity of the keyword 'gym workout', on a scale of 0 to 100. |\n",
        "| `'home_gym_worldwide'` | Index representing the popularity of the keyword 'home gym', on a scale of 0 to 100. |\n",
        "\n",
        "### workout_geo.csv\n",
        "\n",
        "| Column     | Description              |\n",
        "|------------|--------------------------|\n",
        "| `'country'` | Country where the data was measured. |\n",
        "| `'workout_2018_2023'` | Index representing the popularity of the keyword 'workout' during the 5 year period. |\n",
        "\n",
        "### three_keywords_geo.csv\n",
        "\n",
        "| Column     | Description              |\n",
        "|------------|--------------------------|\n",
        "| `'country'` | Country where the data was measured. |\n",
        "| `'home_workout_2018_2023'` | Index representing the popularity of the keyword 'home workout' during the 5 year period. |\n",
        "| `'gym_workout_2018_2023'` | Index representing the popularity of the keyword 'gym workout' during the 5 year period.  |\n",
        "| `'home_gym_2018_2023'` | Index representing the popularity of the keyword 'home gym' during the 5 year period. |"
      ],
      "metadata": {
        "id": "7ee8ccb9-c762-4f35-9b79-ebd2ab1824b0"
      },
      "id": "7ee8ccb9-c762-4f35-9b79-ebd2ab1824b0",
      "cell_type": "markdown"
    },
    {
      "source": [
        "# Import the necessary libraries\n",
        "import pandas as pd\n",
        "import matplotlib.pyplot as plt"
      ],
      "metadata": {
        "executionCancelledAt": null,
        "executionTime": 13,
        "lastExecutedAt": 1738269081202,
        "lastExecutedByKernel": "cd34df9c-23f8-4ea4-8484-e9aaeefd2fa9",
        "lastScheduledRunId": null,
        "lastSuccessfullyExecutedCode": "# Import the necessary libraries\nimport pandas as pd\nimport matplotlib.pyplot as plt",
        "outputsMetadata": {
          "0": {
            "height": 321,
            "type": "dataFrame"
          }
        },
        "id": "36e5d14e-3f2b-4123-97a3-d11880a7a047"
      },
      "id": "36e5d14e-3f2b-4123-97a3-d11880a7a047",
      "cell_type": "code",
      "execution_count": null,
      "outputs": []
    },
    {
      "source": [
        "load the dataset to manipulate"
      ],
      "metadata": {
        "id": "c9be4e6f-1130-4304-9ee4-b419ab5846ef"
      },
      "cell_type": "markdown",
      "id": "c9be4e6f-1130-4304-9ee4-b419ab5846ef"
    },
    {
      "source": [
        "# Cargar un archivo CSV específico\n",
        "workout = pd.read_csv(\"data/workout.csv\")\n",
        "three_keywords = pd.read_csv(\"data/three_keywords.csv\")\n",
        "workout_keywords = pd.read_csv(\"data/workout_geo.csv\")\n",
        "three_keyword_geo = pd.read_csv(\"data/three_keywords_geo.csv\")"
      ],
      "metadata": {
        "executionCancelledAt": null,
        "executionTime": 49,
        "lastExecutedAt": 1738269081251,
        "lastExecutedByKernel": "cd34df9c-23f8-4ea4-8484-e9aaeefd2fa9",
        "lastScheduledRunId": null,
        "lastSuccessfullyExecutedCode": "# Cargar un archivo CSV específico\nworkout = pd.read_csv(\"data/workout.csv\")\nthree_keywords = pd.read_csv(\"data/three_keywords.csv\")\nworkout_keywords = pd.read_csv(\"data/workout_geo.csv\")\nthree_keyword_geo = pd.read_csv(\"data/three_keywords_geo.csv\")",
        "outputsMetadata": {
          "0": {
            "height": 550,
            "type": "dataFrame",
            "tableState": {
              "quickFilterText": ""
            }
          }
        },
        "id": "c303a942-ddac-498d-981e-0b7755259f3f"
      },
      "id": "c303a942-ddac-498d-981e-0b7755259f3f",
      "cell_type": "code",
      "execution_count": null,
      "outputs": []
    },
    {
      "source": [
        "# Find the month with the highest 'workout_worldwide' value\n",
        "peak_month = workout.loc[workout['workout_worldwide'].idxmax(), 'month']\n",
        "\n",
        "# Extract the year from the peak month\n",
        "year_str = peak_month.split('-')[0]\n",
        "\n",
        "# Display the year of peak interest\n",
        "year_str"
      ],
      "metadata": {
        "executionCancelledAt": null,
        "executionTime": 53,
        "lastExecutedAt": 1738269081304,
        "lastExecutedByKernel": "cd34df9c-23f8-4ea4-8484-e9aaeefd2fa9",
        "lastScheduledRunId": null,
        "lastSuccessfullyExecutedCode": "# Find the month with the highest 'workout_worldwide' value\npeak_month = workout.loc[workout['workout_worldwide'].idxmax(), 'month']\n\n# Extract the year from the peak month\nyear_str = peak_month.split('-')[0]\n\n# Display the year of peak interest\nyear_str",
        "id": "9b75b799-b983-4b31-b576-dc76c0043730",
        "outputId": "b0f73276-7899-4536-aa81-578ef2b8ded2"
      },
      "cell_type": "code",
      "id": "9b75b799-b983-4b31-b576-dc76c0043730",
      "outputs": [
        {
          "output_type": "execute_result",
          "data": {
            "text/plain": "'2020'"
          },
          "metadata": {},
          "execution_count": 48
        }
      ],
      "execution_count": null
    },
    {
      "source": [
        "# Define the COVID pandemic period (e.g., March 2020 to December 2021)\n",
        "covid_start = '2020-03'\n",
        "covid_end = '2021-12'\n",
        "\n",
        "# Filter the three_keywords dataframe for the COVID period\n",
        "covid_period = three_keywords[(three_keywords['month'] >= covid_start) & (three_keywords['month'] <= covid_end)]\n",
        "\n",
        "# Calculate the sum of each keyword during the COVID period\n",
        "covid_sums = covid_period[['home_workout_worldwide', 'gym_workout_worldwide', 'home_gym_worldwide']].sum()\n",
        "\n",
        "# Find the most popular keyword during the COVID period\n",
        "peak_covid = covid_sums.idxmax()\n",
        "\n",
        "# Find the most recent month in the dataset\n",
        "most_recent_month = three_keywords['month'].max()\n",
        "\n",
        "# Filter the three_keywords dataframe for the most recent month\n",
        "current_period = three_keywords[three_keywords['month'] == most_recent_month]\n",
        "\n",
        "# Find the most popular keyword in the most recent month\n",
        "current = current_period[['home_workout_worldwide', 'gym_workout_worldwide', 'home_gym_worldwide']].idxmax(axis=1).values[0]\n",
        "\n",
        "peak_covid, current"
      ],
      "metadata": {
        "executionCancelledAt": null,
        "executionTime": 56,
        "lastExecutedAt": 1738269081360,
        "lastExecutedByKernel": "cd34df9c-23f8-4ea4-8484-e9aaeefd2fa9",
        "lastScheduledRunId": null,
        "lastSuccessfullyExecutedCode": "# Define the COVID pandemic period (e.g., March 2020 to December 2021)\ncovid_start = '2020-03'\ncovid_end = '2021-12'\n\n# Filter the three_keywords dataframe for the COVID period\ncovid_period = three_keywords[(three_keywords['month'] >= covid_start) & (three_keywords['month'] <= covid_end)]\n\n# Calculate the sum of each keyword during the COVID period\ncovid_sums = covid_period[['home_workout_worldwide', 'gym_workout_worldwide', 'home_gym_worldwide']].sum()\n\n# Find the most popular keyword during the COVID period\npeak_covid = covid_sums.idxmax()\n\n# Find the most recent month in the dataset\nmost_recent_month = three_keywords['month'].max()\n\n# Filter the three_keywords dataframe for the most recent month\ncurrent_period = three_keywords[three_keywords['month'] == most_recent_month]\n\n# Find the most popular keyword in the most recent month\ncurrent = current_period[['home_workout_worldwide', 'gym_workout_worldwide', 'home_gym_worldwide']].idxmax(axis=1).values[0]\n\npeak_covid, current",
        "id": "f7dda53a-8462-4d72-8d55-4bc2ccb0dec4",
        "outputId": "a1cadaa1-3755-4645-efc9-856b58ca2adc"
      },
      "cell_type": "code",
      "id": "f7dda53a-8462-4d72-8d55-4bc2ccb0dec4",
      "outputs": [
        {
          "output_type": "execute_result",
          "data": {
            "text/plain": "('home_workout_worldwide', 'gym_workout_worldwide')"
          },
          "metadata": {},
          "execution_count": 49
        }
      ],
      "execution_count": null
    },
    {
      "source": [
        "# Filter the workout_keywords dataframe for the countries of interest\n",
        "countries_of_interest = ['United States', 'Australia', 'Japan']\n",
        "filtered_countries = workout_keywords[workout_keywords['country'].isin(countries_of_interest)]\n",
        "\n",
        "# Find the country with the highest interest for workouts\n",
        "top_country = filtered_countries.loc[filtered_countries['workout_2018_2023'].idxmax(), 'country']\n",
        "\n",
        "top_country"
      ],
      "metadata": {
        "executionCancelledAt": null,
        "executionTime": 57,
        "lastExecutedAt": 1738269081417,
        "lastExecutedByKernel": "cd34df9c-23f8-4ea4-8484-e9aaeefd2fa9",
        "lastScheduledRunId": null,
        "lastSuccessfullyExecutedCode": "# Filter the workout_keywords dataframe for the countries of interest\ncountries_of_interest = ['United States', 'Australia', 'Japan']\nfiltered_countries = workout_keywords[workout_keywords['country'].isin(countries_of_interest)]\n\n# Find the country with the highest interest for workouts\ntop_country = filtered_countries.loc[filtered_countries['workout_2018_2023'].idxmax(), 'country']\n\ntop_country",
        "id": "344bd76d-15ea-44d7-8695-c60a18e8a5bc",
        "outputId": "8131abef-7247-45ad-a309-eb82373ea787"
      },
      "cell_type": "code",
      "id": "344bd76d-15ea-44d7-8695-c60a18e8a5bc",
      "outputs": [
        {
          "output_type": "execute_result",
          "data": {
            "text/plain": "'United States'"
          },
          "metadata": {},
          "execution_count": 50
        }
      ],
      "execution_count": null
    },
    {
      "source": [
        "# Filter the three_keyword_geo dataframe for the Philippines and Malaysia\n",
        "countries_of_interest_geo = ['Philippines', 'Malaysia']\n",
        "filtered_geo = three_keyword_geo[three_keyword_geo['Country'].isin(countries_of_interest_geo)]\n",
        "\n",
        "# Find the country with the highest interest in home workouts\n",
        "home_workout_geo = filtered_geo.loc[filtered_geo['home_workout_2018_2023'].idxmax(), 'Country']\n",
        "\n",
        "home_workout_geo"
      ],
      "metadata": {
        "executionCancelledAt": null,
        "executionTime": 52,
        "lastExecutedAt": 1738269081469,
        "lastExecutedByKernel": "cd34df9c-23f8-4ea4-8484-e9aaeefd2fa9",
        "lastScheduledRunId": null,
        "lastSuccessfullyExecutedCode": "# Filter the three_keyword_geo dataframe for the Philippines and Malaysia\ncountries_of_interest_geo = ['Philippines', 'Malaysia']\nfiltered_geo = three_keyword_geo[three_keyword_geo['Country'].isin(countries_of_interest_geo)]\n\n# Find the country with the highest interest in home workouts\nhome_workout_geo = filtered_geo.loc[filtered_geo['home_workout_2018_2023'].idxmax(), 'Country']\n\nhome_workout_geo",
        "id": "e2370ffb-e1b9-49bb-9ecd-693b0840480e",
        "outputId": "c141d7dd-2d2d-422f-9a61-4306c2a5c154"
      },
      "cell_type": "code",
      "id": "e2370ffb-e1b9-49bb-9ecd-693b0840480e",
      "outputs": [
        {
          "output_type": "execute_result",
          "data": {
            "text/plain": "'Philippines'"
          },
          "metadata": {},
          "execution_count": 51
        }
      ],
      "execution_count": null
    }
  ],
  "metadata": {
    "colab": {
      "provenance": [],
      "include_colab_link": true
    },
    "kernelspec": {
      "display_name": "Python 3 (ipykernel)",
      "language": "python",
      "name": "python3"
    },
    "language_info": {
      "name": "python",
      "version": "3.8.10",
      "mimetype": "text/x-python",
      "codemirror_mode": {
        "name": "ipython",
        "version": 3
      },
      "pygments_lexer": "ipython3",
      "nbconvert_exporter": "python",
      "file_extension": ".py"
    },
    "editor": "DataLab"
  },
  "nbformat": 4,
  "nbformat_minor": 5
}